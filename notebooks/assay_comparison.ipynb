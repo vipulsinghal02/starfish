{
 "cells": [
  {
   "cell_type": "code",
   "execution_count": null,
   "metadata": {},
   "outputs": [],
   "source": [
    "# plotting\n",
    "%matplotlib inline\n",
    "import matplotlib.pyplot as plt\n",
    "import seaborn as sns\n",
    "\n",
    "sns.set_context('talk')\n",
    "sns.set_style('ticks')"
   ]
  },
  {
   "cell_type": "code",
   "execution_count": null,
   "metadata": {},
   "outputs": [],
   "source": [
    "# munging\n",
    "import os\n",
    "import requests\n",
    "import tempfile"
   ]
  },
  {
   "cell_type": "code",
   "execution_count": null,
   "metadata": {},
   "outputs": [],
   "source": [
    "# science\n",
    "from starfish import IntensityTable, Experiment, ImageStack\n",
    "from starfish.plot import histogram, compare_copy_number\n",
    "from starfish.plot.decoded_spots import decoded_spots\n",
    "from starfish.types import Features, Indices\n",
    "import numpy as np\n",
    "import pandas as pd\n",
    "\n",
    "from showit import image"
   ]
  },
  {
   "cell_type": "markdown",
   "metadata": {},
   "source": [
    "## Load IntensityTables"
   ]
  },
  {
   "cell_type": "code",
   "execution_count": null,
   "metadata": {},
   "outputs": [],
   "source": [
    "# IntensityTable can't download from directories without list privileges\n",
    "\n",
    "data_root = \"https://dmf0bdeheu4zf.cloudfront.net/assay_comparison/\"\n",
    "iss_link = os.path.join(data_root, \"iss.nc\")\n",
    "merfish_link = os.path.join(data_root, \"merfish.nc\")\n",
    "dartfish_link = os.path.join(data_root, \"dartfish.nc\")\n",
    "\n",
    "tmp = tempfile.gettempdir()\n",
    "iss_nc = os.path.join(tmp, \"iss.nc\")\n",
    "merfish_nc = os.path.join(tmp, \"merfish.nc\")\n",
    "dartfish_nc = os.path.join(tmp, \"dartfish.nc\")\n",
    "\n",
    "\n",
    "def curl(dest_path, link):\n",
    "    with open(dest_path, \"wb\") as fh:\n",
    "        fh.write(requests.get(link).content)\n",
    "\n",
    "\n",
    "curl(iss_nc, iss_link)\n",
    "curl(merfish_nc, merfish_link)\n",
    "curl(dartfish_nc, dartfish_link)\n",
    "\n",
    "iss_intensity_table = IntensityTable.load(iss_nc)\n",
    "merfish_intensity_table = IntensityTable.load(merfish_nc)\n",
    "dartfish_intensity_table = IntensityTable.load(dartfish_nc)"
   ]
  },
  {
   "cell_type": "code",
   "execution_count": null,
   "metadata": {},
   "outputs": [],
   "source": [
    "datasets = [iss_intensity_table, merfish_intensity_table, dartfish_intensity_table]"
   ]
  },
  {
   "cell_type": "markdown",
   "metadata": {},
   "source": [
    "## Load Background Images"
   ]
  },
  {
   "cell_type": "code",
   "execution_count": null,
   "metadata": {},
   "outputs": [],
   "source": [
    "# construct background images for each assay\n",
    "import starfish.data\n",
    "experiment = starfish.data.DARTFISH()\n",
    "\n",
    "dartfish_nuclei = experiment.fov()['nuclei'].max_proj(Indices.CH, Indices.ROUND, Indices.Z)\n",
    "dartfish_link = os.path.join(data_root, \"dartfish_dots_image.npy\")\n",
    "dartfish_npy = os.path.join(tmp, \"dartfish.npy\")\n",
    "curl(dartfish_npy, dartfish_link)\n",
    "dartfish_dots = np.load(dartfish_npy)"
   ]
  },
  {
   "cell_type": "code",
   "execution_count": null,
   "metadata": {},
   "outputs": [],
   "source": [
    "experiment = starfish.data.ISS()\n",
    "\n",
    "iss_nuclei = experiment.fov()['nuclei'].max_proj(Indices.CH, Indices.ROUND, Indices.Z)\n",
    "iss_dots = experiment.fov()['dots'].max_proj(Indices.CH, Indices.ROUND, Indices.Z)"
   ]
  },
  {
   "cell_type": "code",
   "execution_count": null,
   "metadata": {},
   "outputs": [],
   "source": [
    "experiment = starfish.data.MERFISH()\n",
    "merfish_nuclei = experiment.fov()['nuclei'].max_proj(Indices.CH, Indices.ROUND, Indices.Z)\n",
    "\n",
    "# merfish doesn't have a dots image, and some of the channels are stronger than others.\n",
    "# We can use the scale factors to get the right levels\n",
    "merfish_background = experiment.fov().primary_image.max_proj(Indices.CH, Indices.ROUND)\n",
    "merfish_background = np.reshape(merfish_background, (1, 1, *merfish_background.shape))\n",
    "merfish_background = ImageStack.from_numpy_array(merfish_background)\n",
    "\n",
    "from starfish.image import Filter\n",
    "clip = Filter.Clip(p_max=99.7)\n",
    "merfish_dots = clip.run(merfish_background)\n",
    "\n",
    "merfish_dots = merfish_dots.max_proj(Indices.CH, Indices.ROUND, Indices.Z)"
   ]
  },
  {
   "cell_type": "markdown",
   "metadata": {},
   "source": [
    "## Load Decoded Images"
   ]
  },
  {
   "cell_type": "markdown",
   "metadata": {},
   "source": [
    "Numpy load can't download files from s3 either."
   ]
  },
  {
   "cell_type": "code",
   "execution_count": null,
   "metadata": {},
   "outputs": [],
   "source": [
    "merfish_link = os.path.join(data_root, \"merfish_decoded_image.npy\")\n",
    "dartfish_link = os.path.join(data_root, \"dartfish_decoded_image.npy\")\n",
    "\n",
    "merfish_npy = os.path.join(tmp, \"merfish_decoded_image.npy\")\n",
    "dartfish_npy = os.path.join(tmp, \"dartfish_decoded_image.npy\")\n",
    "\n",
    "\n",
    "curl(merfish_npy, merfish_link)\n",
    "curl(dartfish_npy, dartfish_link)\n",
    "\n",
    "\n",
    "merfish_decoded_image = np.squeeze(np.load(merfish_npy))\n",
    "dartfish_decoded_image = np.squeeze(np.load(dartfish_npy))"
   ]
  },
  {
   "cell_type": "markdown",
   "metadata": {},
   "source": [
    "## Show Different Background Types for MERFISH"
   ]
  },
  {
   "cell_type": "code",
   "execution_count": null,
   "metadata": {},
   "outputs": [],
   "source": [
    "f, ((ax1, ax2), (ax3, ax4), (ax5, ax6)) = plt.subplots(ncols=2, nrows=3, figsize=(30, 45))\n",
    "decoded_spots(\n",
    "    merfish_intensity_table,\n",
    "    background_image=np.zeros_like(merfish_dots),\n",
    "    spots_kwargs=dict(alpha=1.),\n",
    "    ax=ax1\n",
    ")\n",
    "decoded_spots(\n",
    "    merfish_intensity_table,\n",
    "    background_image=merfish_dots,\n",
    "    spots_kwargs=dict(alpha=1.),\n",
    "    ax=ax3\n",
    ")\n",
    "decoded_spots(\n",
    "    merfish_intensity_table,\n",
    "    background_image=merfish_nuclei,\n",
    "    spots_kwargs=dict(alpha=1.),\n",
    "    ax=ax5\n",
    ")\n",
    "decoded_spots(\n",
    "    decoded_image=merfish_decoded_image,\n",
    "    decoded_image_kwargs=dict(alpha=1.),\n",
    "    ax=ax2\n",
    ")\n",
    "decoded_spots(\n",
    "    decoded_image=merfish_decoded_image,\n",
    "    background_image=merfish_dots,\n",
    "    decoded_image_kwargs=dict(alpha=1.),\n",
    "    ax=ax4\n",
    ")\n",
    "decoded_spots(\n",
    "    decoded_image=merfish_decoded_image,\n",
    "    background_image=merfish_nuclei,\n",
    "    decoded_image_kwargs=dict(alpha=1.),\n",
    "    ax=ax6\n",
    ");"
   ]
  },
  {
   "cell_type": "markdown",
   "metadata": {},
   "source": [
    "From these examples, we can see that the point cloud over-estimates the spot size\n",
    "(perhaps we're calculating radius wrong?)"
   ]
  },
  {
   "cell_type": "markdown",
   "metadata": {},
   "source": [
    "## Show different background types for DARTFISH"
   ]
  },
  {
   "cell_type": "code",
   "execution_count": null,
   "metadata": {},
   "outputs": [],
   "source": [
    "f, ((ax1, ax2), (ax3, ax4), (ax5, ax6)) = plt.subplots(ncols=2, nrows=3, figsize=(30, 45))\n",
    "decoded_spots(\n",
    "    dartfish_intensity_table,\n",
    "    background_image=np.zeros_like(dartfish_dots),\n",
    "    spots_kwargs=dict(alpha=1.),\n",
    "    ax=ax1\n",
    ")\n",
    "decoded_spots(\n",
    "    dartfish_intensity_table,\n",
    "    background_image=dartfish_dots,\n",
    "    spots_kwargs=dict(alpha=1.),\n",
    "    ax=ax3\n",
    ")\n",
    "decoded_spots(\n",
    "    dartfish_intensity_table,\n",
    "    background_image=dartfish_nuclei,\n",
    "    spots_kwargs=dict(alpha=1.),\n",
    "    ax=ax5\n",
    ")\n",
    "decoded_spots(\n",
    "    decoded_image=dartfish_decoded_image,\n",
    "    decoded_image_kwargs=dict(alpha=1.),\n",
    "    ax=ax2\n",
    ")\n",
    "decoded_spots(\n",
    "    decoded_image=dartfish_decoded_image,\n",
    "    background_image=dartfish_dots,\n",
    "    decoded_image_kwargs=dict(alpha=1.),\n",
    "    ax=ax4\n",
    ")\n",
    "decoded_spots(\n",
    "    decoded_image=dartfish_decoded_image,\n",
    "    background_image=dartfish_nuclei,\n",
    "    decoded_image_kwargs=dict(alpha=1.),\n",
    "    ax=ax6\n",
    ");"
   ]
  },
  {
   "cell_type": "markdown",
   "metadata": {},
   "source": [
    "## Show different background types for ISS"
   ]
  },
  {
   "cell_type": "code",
   "execution_count": null,
   "metadata": {},
   "outputs": [],
   "source": [
    "f, ((ax1, ax2), (ax3, ax4), (ax5, ax6)) = plt.subplots(ncols=2, nrows=3, figsize=(30, 40))\n",
    "decoded_spots(\n",
    "    iss_intensity_table,\n",
    "    background_image=np.zeros_like(iss_dots),\n",
    "    spots_kwargs=dict(alpha=1.),\n",
    "    ax=ax1\n",
    ")\n",
    "decoded_spots(\n",
    "    iss_intensity_table,\n",
    "    background_image=iss_dots,\n",
    "    spots_kwargs=dict(alpha=1.),\n",
    "    ax=ax3\n",
    ")\n",
    "decoded_spots(\n",
    "    iss_intensity_table,\n",
    "    background_image=iss_nuclei,\n",
    "    spots_kwargs=dict(alpha=1.),\n",
    "    ax=ax5\n",
    ")\n",
    "\n",
    "# ISS doesn't have a decoded image right now, but we can make one! Leave the placeholders open.\n",
    "for ax in (ax2, ax4, ax6):\n",
    "    ax.set_axis_off()\n",
    "f.tight_layout()"
   ]
  },
  {
   "cell_type": "markdown",
   "metadata": {},
   "source": [
    "## Download available copy number information from assay authors"
   ]
  },
  {
   "cell_type": "code",
   "execution_count": null,
   "metadata": {},
   "outputs": [],
   "source": [
    "dartfish_copy_number = pd.read_csv(\n",
    "    'https://dmf0bdeheu4zf.cloudfront.net/20180919/DARTFISH/fov_001/counts.csv',\n",
    "    index_col=0,\n",
    "    squeeze=True\n",
    ")\n",
    "merfish_copy_number = pd.read_csv(\n",
    "    os.path.join(data_root, \"merfish_copy_number_benchmark.csv\"),\n",
    "    index_col=0,\n",
    "    squeeze=True\n",
    ")\n",
    "iss_copy_number = pd.read_csv(\n",
    "    os.path.join(data_root, \"iss_copy_number_benchmark.csv\"),\n",
    "    index_col=1\n",
    ")['cnt']"
   ]
  },
  {
   "cell_type": "code",
   "execution_count": null,
   "metadata": {},
   "outputs": [],
   "source": [
    "f, axes = plt.subplots(ncols=3, nrows=4, figsize=(12, 14))\n",
    "iterable = zip(\n",
    "    [iss_intensity_table, merfish_intensity_table, dartfish_intensity_table],\n",
    "    [iss_copy_number, merfish_copy_number, dartfish_copy_number],\n",
    "    axes[0, :]\n",
    ")\n",
    "for dataset, benchmark, axis in iterable:\n",
    "    compare_copy_number(dataset, benchmark, ax=axis, color='tab:blue')\n",
    "\n",
    "for dataset, axis in zip(datasets, axes[1, :]):\n",
    "    norms = dataset.feature_trace_magnitudes()\n",
    "    histogram(norms, bins=20, log=True, ax=axis)\n",
    "\n",
    "for dataset, axis in zip(datasets, axes[2, :]):\n",
    "    area = (dataset.radius * np.pi) ** 2\n",
    "    histogram(area, bins=20, ax=axis)\n",
    "\n",
    "for dataset, axis in zip([merfish_intensity_table, dartfish_intensity_table], axes[3, 1:]):\n",
    "    distances = dataset[Features.DISTANCE].values\n",
    "    histogram(distances, bins=20, ax=axis)\n",
    "\n",
    "# set the assay names as the titles of the top plots\n",
    "axes[0, 0].set_title('In-Situ Sequencing', fontsize=20)\n",
    "axes[0, 1].set_title('MERFISH', fontsize=20)\n",
    "axes[0, 2].set_title('DARTFISH', fontsize=20);\n",
    "\n",
    "# reset y-axis labels\n",
    "for ax in np.ravel(axes):\n",
    "    ax.set_ylabel('')\n",
    "\n",
    "# reset titles\n",
    "for ax in np.ravel(axes[1:, :]):\n",
    "    ax.set_title('')\n",
    "\n",
    "# set the y-axis labels\n",
    "column_1_axes = (axes[:, 0])\n",
    "plot_names = (\n",
    "    'Copy Number Comparison\\nwith Author Pipelines\\n\\nstarfish result\\n\\n',\n",
    "    'Barcode Magnitude\\nDistributions\\n\\nnumber of features',\n",
    "    'Spot Area\\nDistributions\\n\\nnumber of spots',\n",
    "    'Feature Distances to\\nNearest Code\\n\\nnumber of features\\n\\n'\n",
    ")\n",
    "for ax, name in zip(column_1_axes, plot_names):\n",
    "    ax.set_ylabel(name, fontsize=16)\n",
    "\n",
    "\n",
    "# fix up the figure\n",
    "f.tight_layout()\n",
    "for ax in np.ravel(axes):\n",
    "    sns.despine(ax=ax)\n",
    "\n",
    "# turn off the empty plot, matplotlib is super bad about this.\n",
    "for ax in (axes[3, 0],):\n",
    "    ax.xaxis.set_visible(False)\n",
    "    # make spines (the box) invisible\n",
    "    plt.setp(ax.spines.values(), visible=False)\n",
    "    # remove ticks and labels for the left axis\n",
    "    ax.tick_params(left=False, labelleft=False)\n",
    "    # remove background patch (only needed for non-white background)\n",
    "    ax.patch.set_visible(False)"
   ]
  },
  {
   "cell_type": "markdown",
   "metadata": {},
   "source": [
    "The histogram can be used to demonstrate parameter thresholding, as well."
   ]
  },
  {
   "cell_type": "code",
   "execution_count": null,
   "metadata": {},
   "outputs": [],
   "source": [
    "f, ax = plt.subplots()\n",
    "area = (iss_intensity_table.radius * np.pi) ** 2\n",
    "histogram(\n",
    "    area,\n",
    "    bins=20,\n",
    "    threshold=1000,\n",
    "    title='fake threshold demonstration',\n",
    "    ylabel='number of spots',\n",
    "    xlabel='spot area'\n",
    ");"
   ]
  }
 ],
 "metadata": {
  "kernelspec": {
   "display_name": "Python 3",
   "language": "python",
   "name": "python3"
  },
  "language_info": {
   "codemirror_mode": {
    "name": "ipython",
    "version": 3
   },
   "file_extension": ".py",
   "mimetype": "text/x-python",
   "name": "python",
   "nbconvert_exporter": "python",
   "pygments_lexer": "ipython3",
   "version": "3.6.5"
  }
 },
 "nbformat": 4,
 "nbformat_minor": 2
}