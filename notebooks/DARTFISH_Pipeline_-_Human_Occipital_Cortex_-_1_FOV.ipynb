{
 "cells": [
  {
   "cell_type": "markdown",
   "metadata": {},
   "source": [
    "## Reproduce DARTFISH results with a Pixel Decoding Method"
   ]
  },
  {
   "cell_type": "code",
   "execution_count": null,
   "metadata": {},
   "outputs": [],
   "source": [
    "%load_ext autoreload\n",
    "%autoreload 2\n",
    "%matplotlib inline\n",
    "\n",
    "import pandas as pd\n",
    "import numpy as np\n",
    "import matplotlib.pyplot as plt\n",
    "import seaborn as sns\n",
    "import os\n",
    "\n",
    "from starfish import data\n",
    "from starfish.types import Features, Indices\n",
    "\n",
    "from starfish import IntensityTable\n",
    "\n",
    "from starfish.image import Filter\n",
    "from starfish.spots import SpotFinder\n",
    "\n",
    "sns.set_context('talk')\n",
    "sns.set_style('ticks')"
   ]
  },
  {
   "cell_type": "markdown",
   "metadata": {},
   "source": [
    "### Load image stack\n",
    "\n",
    "Note that the data here corresopond to DARTFISHv1 2017. The group is actively working on improving the protocol."
   ]
  },
  {
   "cell_type": "code",
   "execution_count": null,
   "metadata": {},
   "outputs": [],
   "source": [
    "use_test_data = os.getenv(\"USE_TEST_DATA\") is not None\n",
    "exp = data.DARTFISH(use_test_data=use_test_data)\n",
    "\n",
    "stack = exp.fov().primary_image"
   ]
  },
  {
   "cell_type": "code",
   "execution_count": null,
   "metadata": {},
   "outputs": [],
   "source": [
    "print(stack.shape)"
   ]
  },
  {
   "cell_type": "code",
   "execution_count": null,
   "metadata": {},
   "outputs": [],
   "source": [
    "stack.show_stack({Indices.CH:0}, rescale=True);"
   ]
  },
  {
   "cell_type": "markdown",
   "metadata": {},
   "source": [
    "### Load codebook"
   ]
  },
  {
   "cell_type": "code",
   "execution_count": null,
   "metadata": {},
   "outputs": [],
   "source": [
    "exp.codebook"
   ]
  },
  {
   "cell_type": "markdown",
   "metadata": {},
   "source": [
    "### Load copy number benchmark results"
   ]
  },
  {
   "cell_type": "code",
   "execution_count": null,
   "metadata": {},
   "outputs": [],
   "source": [
    "cnts_benchmark = pd.read_csv('https://dmf0bdeheu4zf.cloudfront.net/20180919/DARTFISH/fov_001/counts.csv')\n",
    "cnts_benchmark.head()"
   ]
  },
  {
   "cell_type": "markdown",
   "metadata": {},
   "source": [
    "### Filter Image Stack"
   ]
  },
  {
   "cell_type": "code",
   "execution_count": null,
   "metadata": {},
   "outputs": [],
   "source": [
    "sc_filt = Filter.ScaleByPercentile(p=100)\n",
    "z_filt = Filter.ZeroByChannelMagnitude(thresh=.05, normalize=False)\n",
    "\n",
    "norm_stack = sc_filt.run(stack)\n",
    "zero_norm_stack = z_filt.run(norm_stack)"
   ]
  },
  {
   "cell_type": "markdown",
   "metadata": {},
   "source": [
    "#### Visualize barcode magnitudes to help determine an appropriate threshold for decoding"
   ]
  },
  {
   "cell_type": "code",
   "execution_count": null,
   "metadata": {},
   "outputs": [],
   "source": [
    "def compute_magnitudes(stack, norm_order=2):\n",
    "\n",
    "    pixel_intensities = IntensityTable.from_image_stack(zero_norm_stack)\n",
    "    feature_traces = pixel_intensities.stack(traces=(Indices.CH.value, Indices.ROUND.value))\n",
    "    norm = np.linalg.norm(feature_traces.values, ord=norm_order, axis=1)\n",
    "\n",
    "    return norm\n",
    "\n",
    "mags = compute_magnitudes(zero_norm_stack)\n",
    "\n",
    "plt.hist(mags, bins=20);\n",
    "sns.despine(offset=3)\n",
    "plt.xlabel('Barcode magnitude')\n",
    "plt.ylabel('Number of pixels')\n",
    "plt.yscale('log');"
   ]
  },
  {
   "cell_type": "markdown",
   "metadata": {},
   "source": [
    "### Decode"
   ]
  },
  {
   "cell_type": "code",
   "execution_count": null,
   "metadata": {},
   "outputs": [],
   "source": [
    "# how much magnitude should a barcode have for it to be considered by decoding? this was set by looking at\n",
    "# the plot above\n",
    "magnitude_threshold = 0.5\n",
    "# how big do we expect our spots to me, min/max size. this was set to be equivalent to the parameters\n",
    "# determined by the Zhang lab.\n",
    "area_threshold = (5, 30)\n",
    "# how close, in euclidean space, should the pixel barcode be to the nearest barcode it was called to?\n",
    "# here, I set this to be a large number, so I can inspect the distribution of decoded distances below\n",
    "distance_threshold = 3\n",
    "\n",
    "psd = SpotFinder.PixelSpotDetector(\n",
    "    codebook=exp.codebook,\n",
    "    metric='euclidean',\n",
    "    distance_threshold=distance_threshold,\n",
    "    magnitude_threshold=magnitude_threshold,\n",
    "    min_area=area_threshold[0],\n",
    "    max_area=area_threshold[1]\n",
    ")\n",
    "\n",
    "initial_spot_intensities, results = psd.run(zero_norm_stack)"
   ]
  },
  {
   "cell_type": "code",
   "execution_count": null,
   "metadata": {},
   "outputs": [],
   "source": [
    "spots_df = initial_spot_intensities.to_features_dataframe()\n",
    "spots_df['area'] = np.pi*spots_df['radius']**2\n",
    "spots_df = spots_df.loc[spots_df[Features.PASSES_THRESHOLDS]]\n",
    "spots_df.head()"
   ]
  },
  {
   "cell_type": "markdown",
   "metadata": {},
   "source": [
    "### QC Plots"
   ]
  },
  {
   "cell_type": "markdown",
   "metadata": {},
   "source": [
    "#### parameter tuning plots"
   ]
  },
  {
   "cell_type": "code",
   "execution_count": null,
   "metadata": {},
   "outputs": [],
   "source": [
    "# these plots help inform how the parameters above were wet.\n",
    "# looking at the last plot below, I reset the distance_threshold parameter to\n",
    "min_dist = 0.6\n",
    "\n",
    "plt.figure(figsize=(10,3))\n",
    "\n",
    "plt.subplot(131)\n",
    "plt.hist(mags, bins=100);\n",
    "plt.yscale('log')\n",
    "plt.xlabel('barcode magnitude')\n",
    "plt.ylabel('number of pixels')\n",
    "sns.despine(offset=2)\n",
    "plt.vlines(magnitude_threshold, ymin=plt.gca().get_ylim()[0], ymax=plt.gca().get_ylim()[1])\n",
    "plt.title('Set magnitude threshod')\n",
    "\n",
    "plt.subplot(132)\n",
    "spots_df['area'] = np.pi*spots_df.radius**2\n",
    "spots_df.area.hist(bins=30);\n",
    "plt.xlabel('area')\n",
    "plt.ylabel('number of spots')\n",
    "sns.despine(offset=2)\n",
    "plt.title('Set area threshold')\n",
    "\n",
    "plt.subplot(133)\n",
    "spots_df.distance.hist(bins=30)\n",
    "plt.xlabel('min distance to code');\n",
    "plt.vlines(min_dist, ymin=plt.gca().get_ylim()[0], ymax=plt.gca().get_ylim()[1])\n",
    "sns.despine(offset=2)\n",
    "plt.title('Set minimum distance threshold');"
   ]
  },
  {
   "cell_type": "markdown",
   "metadata": {},
   "source": [
    "#### Copy number comparisons"
   ]
  },
  {
   "cell_type": "code",
   "execution_count": null,
   "metadata": {},
   "outputs": [],
   "source": [
    "# select spots with distance less than a threshold, and count the number of each target gene\n",
    "cnts_starfish = spots_df[spots_df.distance<=min_dist].groupby('target').count()['area']\n",
    "cnts_starfish = cnts_starfish.reset_index(level=0)\n",
    "cnts_starfish.rename(columns = {'target':'gene', 'area':'cnt_starfish'}, inplace=True)\n",
    "\n",
    "benchmark_comparison = pd.merge(cnts_benchmark, cnts_starfish, on='gene', how='left')\n",
    "benchmark_comparison.head(20)"
   ]
  },
  {
   "cell_type": "code",
   "execution_count": null,
   "metadata": {},
   "outputs": [],
   "source": [
    "x = benchmark_comparison.dropna().cnt.values\n",
    "y = benchmark_comparison.dropna().cnt_starfish.values\n",
    "r = np.corrcoef(x, y)\n",
    "r = r[0,1]\n",
    "\n",
    "plt.scatter(x, y, 50,zorder=2)\n",
    "\n",
    "plt.xlabel('Gene copy number Benchmark')\n",
    "plt.ylabel('Gene copy number Starfish')\n",
    "plt.title('r = {}'.format(r))\n",
    "\n",
    "sns.despine(offset=2)"
   ]
  },
  {
   "cell_type": "markdown",
   "metadata": {},
   "source": [
    "#### visualization of rolonies"
   ]
  },
  {
   "cell_type": "code",
   "execution_count": null,
   "metadata": {},
   "outputs": [],
   "source": [
    "distance_threshold = min_dist\n",
    "\n",
    "psd = SpotFinder.PixelSpotDetector(\n",
    "    codebook=exp.codebook,\n",
    "    metric='euclidean',\n",
    "    distance_threshold=distance_threshold,\n",
    "    magnitude_threshold=magnitude_threshold,\n",
    "    min_area=area_threshold[0],\n",
    "    max_area=area_threshold[1]\n",
    ")\n",
    "\n",
    "spot_intensities, results = psd.run(zero_norm_stack)\n",
    "spot_intensities = IntensityTable(spot_intensities.where(spot_intensities[Features.PASSES_THRESHOLDS], drop=True))"
   ]
  },
  {
   "cell_type": "code",
   "execution_count": null,
   "metadata": {},
   "outputs": [],
   "source": [
    "# exclude spots that don't meet our area thresholds\n",
    "area_lookup = lambda x: 0 if x == 0 else results.region_properties[x - 1].area\n",
    "vfunc = np.vectorize(area_lookup)\n",
    "mask = np.squeeze(vfunc(results.label_image))\n",
    "new_image = np.squeeze(results.decoded_image)*(mask > area_threshold[0])*(mask < area_threshold[1])\n",
    "\n",
    "plt.figure(figsize=(10,10))\n",
    "plt.imshow(new_image, cmap = 'nipy_spectral');\n",
    "plt.axis('off');\n",
    "plt.title('Coded rolonies');\n",
    "\n",
    "from matplotlib.collections import PatchCollection\n",
    "from matplotlib.patches import Rectangle\n",
    "\n",
    "rect = [Rectangle((100, 600), width=200, height=200)]\n",
    "pc = PatchCollection(rect, facecolor='none', alpha=1.0, edgecolor='w', linewidth=1.5)\n",
    "plt.gca().add_collection(pc)\n",
    "\n",
    "plt.figure(figsize=(10,10))\n",
    "plt.imshow(new_image[600:800, 100:300], cmap = 'nipy_spectral');\n",
    "plt.axis('off');\n",
    "plt.title('Coded rolonies, zoomed in');"
   ]
  },
  {
   "cell_type": "markdown",
   "metadata": {},
   "source": [
    "### visualization of matched barcodes\n",
    "here, we 1. pick a rolony that was succesfully decoded to a gene. 2. pull out the average pixel trace for that rolony and 3. plot that pixel trace against the barcode of that gene"
   ]
  },
  {
   "cell_type": "code",
   "execution_count": null,
   "metadata": {},
   "outputs": [],
   "source": [
    "# reshape the spot intensity table into a RxC barcode vector\n",
    "pixel_traces = spot_intensities.stack(traces=(Indices.ROUND.value, Indices.CH.value))\n",
    "\n",
    "# extract dataframe from spot intensity table for indexing purposes\n",
    "pixel_traces_df = pixel_traces.to_features_dataframe()\n",
    "pixel_traces_df['area'] = np.pi*pixel_traces_df.radius**2\n",
    "\n",
    "# pick index of a barcode that was read and decoded from the ImageStack\n",
    "ind = 4\n",
    "\n",
    "# The test will error here on pixel_traces[ind,:] with an out of index error\n",
    "# because we are using the test data.\n",
    "\n",
    "# get the the corresponding gene this barcode was decoded to\n",
    "gene = pixel_traces_df.loc[ind].target\n",
    "\n",
    "# query the codebook for the actual barcode corresponding to this gene\n",
    "real_barcode = exp.codebook[exp.codebook.target==gene].stack(traces=(Indices.ROUND.value, Indices.CH.value)).values[0]\n",
    "read_out_barcode = pixel_traces[ind,:]\n",
    "\n",
    "plt.plot(real_barcode, 'ok')\n",
    "plt.stem(read_out_barcode)\n",
    "sns.despine(offset=2)\n",
    "plt.xticks(range(18))\n",
    "plt.title(gene)\n",
    "plt.xlabel('Index into R (0:5) and C(0:2)');"
   ]
  }
 ],
 "metadata": {
  "kernelspec": {
   "display_name": "Python 3",
   "language": "python",
   "name": "python3"
  },
  "language_info": {
   "codemirror_mode": {
    "name": "ipython",
    "version": 3
   },
   "file_extension": ".py",
   "mimetype": "text/x-python",
   "name": "python",
   "nbconvert_exporter": "python",
   "pygments_lexer": "ipython3",
   "version": "3.6.5"
  }
 },
 "nbformat": 4,
 "nbformat_minor": 2
}